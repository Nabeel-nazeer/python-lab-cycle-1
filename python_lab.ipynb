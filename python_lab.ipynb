{
  "nbformat": 4,
  "nbformat_minor": 0,
  "metadata": {
    "colab": {
      "provenance": [],
      "authorship_tag": "ABX9TyM56LayivN1tslAX932jwzu",
      "include_colab_link": true
    },
    "kernelspec": {
      "name": "python3",
      "display_name": "Python 3"
    },
    "language_info": {
      "name": "python"
    }
  },
  "cells": [
    {
      "cell_type": "markdown",
      "metadata": {
        "id": "view-in-github",
        "colab_type": "text"
      },
      "source": [
        "<a href=\"https://colab.research.google.com/github/Nabeel-nazeer/python-lab-cycle-1/blob/main/python_lab.ipynb\" target=\"_parent\"><img src=\"https://colab.research.google.com/assets/colab-badge.svg\" alt=\"Open In Colab\"/></a>"
      ]
    },
    {
      "cell_type": "markdown",
      "source": [
        "#question 1\n"
      ],
      "metadata": {
        "id": "DKy1wq7vgNOB"
      }
    },
    {
      "cell_type": "code",
      "execution_count": null,
      "metadata": {
        "id": "rTqpKTfkfqDS"
      },
      "outputs": [],
      "source": [
        "#function for checking whether four digit or not\n",
        "def valid(num):\n",
        "  i=0\n",
        "  while num!=0:\n",
        "    r=num%10\n",
        "    i=i+1\n",
        "    num=num//10\n",
        "  return (i)\n",
        "#function for finding sum of digits\n",
        "def add_digits(digits):\n",
        "  sum=0\n",
        "  while digits!=0:\n",
        "    rem=digits%10\n",
        "    sum=sum+rem\n",
        "    digits= digits//10\n",
        "  return (sum)\n",
        "#function for reversing digits  \n",
        "def rverse_digits(digits):\n",
        "  rev=0\n",
        "  while digits!=0:\n",
        "    rem=digits%10\n",
        "    rev=rev*10+rem\n",
        "    digits=digits//10\n",
        "  return (rev)\n",
        "#function for finding difference b/w product of digits at even and odd position\n",
        "def difference(digits):\n",
        "  even=1\n",
        "  odd=1\n",
        "  while digits>0:\n",
        "    rem=digits%10\n",
        "    #to get last digit\n",
        "    odd=odd*rem\n",
        "    digits=digits//10\n",
        "    rem=digits%10\n",
        "    #to get second digit\n",
        "    even=even*rem\n",
        "    digits=digits//10\n",
        "  diff= odd-even\n",
        "  return(diff)\n",
        "#inputing number from user\n",
        "n= int(input(\"enter a number = \"))\n",
        "i=valid(n)\n",
        "#taking sum of the four digits\n",
        "sum=0\n",
        "if i==4:\n",
        "  sum= add_digits(n)\n",
        "  print(\"sum of digits = \", sum)\n",
        "else:\n",
        "  print(\"invalid input please try again\")\n",
        "#reversing the digits\n",
        "if i==4:\n",
        "  rev= rverse_digits(n)\n",
        "  print(\"reverse of number entered = \", rev)\n",
        "#getting the difference\n",
        "if i==4:\n",
        "  diff= difference(n)\n",
        "  print(\"difference  = \", diff)"
      ]
    },
    {
      "cell_type": "markdown",
      "source": [
        "#question 2"
      ],
      "metadata": {
        "id": "6pfEpqwIgjOL"
      }
    },
    {
      "cell_type": "code",
      "source": [
        "#function to rea three sides of triangle\n",
        "def read_sides(side_1, side_2, side_3):\n",
        "  print(\"side 1 = \", side_1, \" \" ,\"side 2 = \", side_2,\" \",\"side_3 = \", side_3)\n",
        "#function to find the areas of triangle\n",
        "def area_of(x,y,z):\n",
        "  import math\n",
        "  sum= x+y+z\n",
        "  s= sum/2\n",
        "  d=s*(s-x)*(s-y)*(s-z)\n",
        "  area= math.sqrt(d)\n",
        "  return (area)\n",
        "#function to print total area enclosed\n",
        "def total_area(t1,t2):\n",
        "  total_area= t1+t2\n",
        "  print(\"the total area enclosed by the triangles = \", total_area)\n",
        "#function to find percentage of area enclosed of each tringle\n",
        "def percentage_of(m,q,w):\n",
        "  total=q+w\n",
        "  ratio=m/total\n",
        "  per=ratio*100\n",
        "  return (per) \n",
        "\n",
        "#inputing sides of two triangle\n",
        "print(\"sides of triangle 1 :\")\n",
        "p= int (input(\"enter side 1 = \"))\n",
        "q= int (input(\"enter side 2 = \"))\n",
        "r= int (input(\"enter side 3 = \"))\n",
        "read_sides(p, q, r)\n",
        "a= int (input(\"enter side 1 = \"))\n",
        "b= int (input(\"enter side 2 = \"))\n",
        "c= int (input(\"enter side 3 = \"))\n",
        "print(\"sides of triangle 2 : \")\n",
        "read_sides(a, b, c)\n",
        "#finding area of the two triangles\n",
        "area_1=area_of(p, q, r)\n",
        "print(\"area of triangle 1 = \", area_1)\n",
        "area_2=area_of(a, b, c)\n",
        "print(\"area of triangle 2 = \", area_2)\n",
        "#total area\n",
        "total_area(area_1, area_2)\n",
        "#percentage\n",
        "p1=percentage_of(area_1, area_1,area_2)\n",
        "print(\"percentage enclosed by triangle 1 = \", p1,\"%\")\n",
        "p2= percentage_of(area_2,area_1,area_2)\n",
        "print(\"percentage enclosed by triangle 2 = \", p2,\"%\")"
      ],
      "metadata": {
        "id": "mtVqMMrmgnpt"
      },
      "execution_count": null,
      "outputs": []
    },
    {
      "cell_type": "markdown",
      "source": [
        "#question 3"
      ],
      "metadata": {
        "id": "kaV3--XxgqjU"
      }
    },
    {
      "cell_type": "code",
      "source": [
        "#FUNCTION FOR READING EMPLOYEE NAME\n",
        "def name_of(name):\n",
        "  print(\"Employee name = \"+\"\"*3,name)\n",
        "#FUNCTION TO READ EMPLOYEE CODE\n",
        "def code_of(code):\n",
        "  print(\"code = \"+\"\"*3,code)\n",
        "#FUNCTION TO PRINT BASIC PAY\n",
        "def basic_print(bp):\n",
        "  print(\"Basic pay :\"+\"\"*3,bp)\n",
        "#FUNCTION TO CALACULATE GROSS SALARY\n",
        "def gross_of(bp,da,hra,ma):\n",
        "  \n",
        "  gs= bp+da+hra+ma\n",
        "  return (gs)\n",
        "#FUNCTION TO FIND DEDUCTION\n",
        "def deduct(pt,pf,it):\n",
        "  d= pt+pf+it\n",
        "  return (d)\n",
        "#FUNCTION TO FIND THE NET SALARY\n",
        "def net_salary(gs,d):\n",
        "  net_salary= gs-d\n",
        "  return (net_salary) \n",
        "name= str (input(\"enter name of employee  :  \"))            #taking important inputs from the user\n",
        "code= str (input(\"enter the employee code :  \"))\n",
        "#inputting the basic salary of employee\n",
        "bp= int (input(\"enter the basic salary of the employee  :  \"))\n",
        "if bp<10000:\n",
        "  da=0.05*bp                                             #conditional branching\n",
        "  hra=0.025*bp\n",
        "  ma=500\n",
        "  gs=gross_of(bp,da,hra,ma)\n",
        "  pt=20\n",
        "  pf=0.08*bp\n",
        "  d= deduct(pt,pf,0)\n",
        "  ns=net_salary(gs,d)\n",
        "elif bp<30000:\n",
        "  da=0.075*bp\n",
        "  hra=0.05*bp\n",
        "  ma=2500\n",
        "  gs=gross_of(bp,da,hra,ma)\n",
        "  pt=60\n",
        "  pf=0.08*bp\n",
        "  d= deduct(pt,pf,0)\n",
        "  ns=net_salary(gs,d)\n",
        "elif bp<50000:\n",
        "  da=0.11*bp\n",
        "  hra=0.075*bp\n",
        "  ma=5000\n",
        "  gs=gross_of(bp,da,hra,ma)\n",
        "  pt=60\n",
        "  pf=0.11*bp\n",
        "  it=0.11*bp\n",
        "  d= deduct(pt,pf,it)\n",
        "  ns=net_salary(gs,d)\n",
        "else:\n",
        "  da=0.25*bp\n",
        "  hra=0.11*bp\n",
        "  ma=7000\n",
        "  gs=gross_of(bp,da,hra,ma)\n",
        "  pt=60\n",
        "  pf=0.11*bp\n",
        "  it=0.11*bp\n",
        "  d= deduct(pt,pf,it)\n",
        "  ns=net_salary(gs,d)\n",
        "print(\"***************PAY SLIP*****************\")\n",
        "name_of(name)\n",
        "code_of(code)\n",
        "print(\"-----------payments/benefits-------------\")\n",
        "print(\"basic pay           :              \", bp)\n",
        "print(\"gross pay           :              \", gs)\n",
        "print(\"______________deductions_________________\")\n",
        "print(\"deduction           :              \",  d)\n",
        "print(\"______________net salary_________________\")\n",
        "print(\"net salary          :              \", ns)"
      ],
      "metadata": {
        "id": "dm5ur6ZWgs_7"
      },
      "execution_count": null,
      "outputs": []
    },
    {
      "cell_type": "markdown",
      "source": [
        "#question 4"
      ],
      "metadata": {
        "id": "DuZLoIdCg4wm"
      }
    },
    {
      "cell_type": "code",
      "source": [
        "#function to read the number\n",
        "def read_num(num):\n",
        "  print(\"the entered number is \",num)\n",
        "#function to check happy number\n",
        "def check(num):\n",
        "  sum=0\n",
        "  for i in range(0,100):\n",
        "    while num!=0:\n",
        "      r=num%10\n",
        "      sum=sum+r*r\n",
        "      num=num//10\n",
        "    if  sum == 1:\n",
        "      return 1\n",
        "    else:\n",
        "      num=sum  \n",
        "      sum=0\n",
        "  return 0\n",
        "#function to find happy numbers in a range\n",
        "def happy(m,n):\n",
        "  list=[]\n",
        "  for i in range(m,n+1):\n",
        "    result= check(i)\n",
        "    if result==1:\n",
        "      list.append(i)\n",
        "  return (list)\n",
        "from traitlets.traitlets import List\n",
        "#function to print first n happy numbers\n",
        "def test(n):\n",
        "  for i in range(2,n+1):\n",
        "    if check(i)==1:\n",
        "      print(i,end=\" \")       \n",
        "#calling\n",
        "num= int (input(\"enter the number : \"))\n",
        "read_num(num)\n",
        "result=check(num)\n",
        "if result==1:\n",
        "  print(\"happy number\")\n",
        "else:\n",
        "  print(\"sad number\")\n",
        "m= int (input(\"enter the lower limit : \"))\n",
        "n= int (input(\"enter the upper limit : \"))\n",
        "h_num1= happy(m,n)\n",
        "print(\"the happy numbers are \",h_num1)\n",
        "p= int (input(\"enter how many happy numbers to be found : \"))\n",
        "print(\"the first\",p,\"happy numbers are : \")\n",
        "test(p)"
      ],
      "metadata": {
        "id": "hmhLDEOVg9bq",
        "colab": {
          "base_uri": "https://localhost:8080/"
        },
        "outputId": "8703a4c1-59d4-4e64-c2f7-5b4dde3073ad"
      },
      "execution_count": 20,
      "outputs": [
        {
          "output_type": "stream",
          "name": "stdout",
          "text": [
            "enter the number : 239\n",
            "the entered number is  239\n",
            "happy number\n",
            "enter the lower limit : 7\n",
            "enter the upper limit : 103\n",
            "the happy numbers are  [7, 10, 13, 19, 23, 28, 31, 32, 44, 49, 68, 70, 79, 82, 86, 91, 94, 97, 100, 103]\n",
            "enter how many happy numbers to be found : 10\n",
            "the first 10 happy numbers are : \n",
            "7 10 "
          ]
        }
      ]
    },
    {
      "cell_type": "code",
      "source": [
        "from traitlets.traitlets import List\n",
        "#function to print first n happy numbers\n",
        "def first_of(n):\n",
        "  while True:\n",
        "    list=[number for number in range(n+1) if check(n==1)]\n",
        "  return (list)  "
      ],
      "metadata": {
        "id": "nvKhk946jg4R"
      },
      "execution_count": 10,
      "outputs": []
    },
    {
      "cell_type": "code",
      "source": [
        "def test(n):\n",
        "  for i in range(n+1):\n",
        "    if check(i)==1:\n",
        "      print(i,end=\" \")"
      ],
      "metadata": {
        "id": "3b4h1fWsmvwC"
      },
      "execution_count": 14,
      "outputs": []
    },
    {
      "cell_type": "markdown",
      "source": [
        "#question 5"
      ],
      "metadata": {
        "id": "r2p9k9yNhvvm"
      }
    },
    {
      "cell_type": "code",
      "source": [
        "#function to read the entered word\n",
        "def read_word(word):\n",
        "  print(\"the entered word is : \",word)\n",
        "#function to get substrings\n",
        "def substrings_of(word):\n",
        "  sub_list=[]\n",
        "  for i in range(len(word)):\n",
        "    for j in range(i+1,len(word)+1):\n",
        "      sub_list.append(word[i:j])\n",
        "  return sub_list\n",
        "#function to find PALINDROMIC SEQUENCES\n",
        "def pal(word):\n",
        "  list=[]\n",
        "  for i in range(len(word)):\n",
        "    for j in range(i+1,len(word)+1):\n",
        "      sub=word[i:j]\n",
        "      if sub == sub[::-1]:\n",
        "        list.append(sub)\n",
        "  return list\n",
        "#FUNCTION TO SELECT substrings of length k\n",
        "def sel_len(subs,k):\n",
        "  list=[]\n",
        "  for each in subs:\n",
        "    if len(each)==k:\n",
        "      list.append(each)\n",
        "  return (list)   \n",
        "word = input(\"enter word here : \")\n",
        "read_word(word)\n",
        "n=len(word)\n",
        "print(\"\\nthe length of word is : \", n) #finding the length of the word entered\n",
        "print(\"the substrings are : \")\n",
        "subs_list=substrings_of(word)\n",
        "for i in subs_list:\n",
        "  print(i,end=\" \")\n",
        "rev=pal(word)\n",
        "\n",
        "#selecting substrings of lengh k\n",
        "g= int(input(\"enter length to select substrings : \"))\n",
        "length_list= sel_len(subs_list,g)\n",
        "print(\"list of substring with length\",g,\"=\",length_list)\n",
        "#selecting palindromic sequences from the substrings\n",
        "print(\"the palindromic sequences include : \")\n",
        "for i in rev:\n",
        "  print(i, end=\" \")\n",
        "print(\"\\n\") #next line\n",
        "#distinct_list= list(set(subs_list))\n",
        "#print(\"the distinct elements are : \", distinct_list) #SELECTING DISTINCT ELEMENTS FROM THE LIST\n",
        "distinct_substrings = [substring for substring in subs_list if len(set(substring)) == len(substring)]#selecting susbstrings with distinct charachters\n",
        "print(\"the list with distinct charachters : \",distinct_substrings)\n",
        "#possible substrings of length K with N distinct charachters\n",
        "k= int (input(\"enter length to find substrings with distinct charachters : \"))\n",
        "new_list= sel_len(distinct_substrings,k)\n",
        "print(\"\\n\")#next line\n",
        "print(\"substrings of length\",k,\"with N distinct charachters\", new_list)"
      ],
      "metadata": {
        "id": "iE_7-be6hy6E",
        "colab": {
          "base_uri": "https://localhost:8080/"
        },
        "outputId": "786771c1-51d9-43ae-9ce7-4b542fc4bf8c"
      },
      "execution_count": 5,
      "outputs": [
        {
          "output_type": "stream",
          "name": "stdout",
          "text": [
            "enter word here : malayalam\n",
            "the entered word is :  malayalam\n",
            "\n",
            "the length of word is :  9\n",
            "the substrings are : \n",
            "m ma mal mala malay malaya malayal malayala malayalam a al ala alay alaya alayal alayala alayalam l la lay laya layal layala layalam a ay aya ayal ayala ayalam y ya yal yala yalam a al ala alam l la lam a am m enter length to select substrings : 2\n",
            "list of substring with length 2 = ['ma', 'al', 'la', 'ay', 'ya', 'al', 'la', 'am']\n",
            "the palindromic sequences include : \n",
            "m malayalam a ala alayala l layal a aya y a ala l a m \n",
            "\n",
            "the list with distinct charachters :  ['m', 'ma', 'mal', 'a', 'al', 'l', 'la', 'lay', 'a', 'ay', 'y', 'ya', 'yal', 'a', 'al', 'l', 'la', 'lam', 'a', 'am', 'm']\n",
            "enter length to find substrings with distinct charachters2\n",
            "\n",
            "\n",
            "substrings of length 2 with N distinct charachters ['ma', 'al', 'la', 'ay', 'ya', 'al', 'la', 'am']\n"
          ]
        }
      ]
    }
  ]
}